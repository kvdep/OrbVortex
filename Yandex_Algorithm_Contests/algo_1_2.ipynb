{
  "nbformat": 4,
  "nbformat_minor": 0,
  "metadata": {
    "colab": {
      "provenance": []
    },
    "kernelspec": {
      "name": "python3",
      "display_name": "Python 3"
    },
    "language_info": {
      "name": "python"
    }
  },
  "cells": [
    {
      "cell_type": "markdown",
      "source": [
        "##A"
      ],
      "metadata": {
        "id": "JR-hlqIpFqBl"
      }
    },
    {
      "cell_type": "code",
      "execution_count": null,
      "metadata": {
        "colab": {
          "base_uri": "https://localhost:8080/"
        },
        "id": "qnvDOJeQFn4P",
        "outputId": "49059357-9844-4794-d636-7e96abb95c13"
      },
      "outputs": [
        {
          "output_type": "stream",
          "name": "stdout",
          "text": [
            "2 2 2\n",
            "NO\n"
          ]
        }
      ],
      "source": [
        "x = [int(i) for i in input().split()]\n",
        "out = 'YES'\n",
        "prev = x[0]\n",
        "for i in x[1:]:\n",
        "  if (prev >= i):\n",
        "    out = 'NO'\n",
        "    break\n",
        "  prev = i\n",
        "print(out)"
      ]
    },
    {
      "cell_type": "markdown",
      "source": [
        "##B"
      ],
      "metadata": {
        "id": "NKimO2LDIPy0"
      }
    },
    {
      "cell_type": "code",
      "source": [
        "CONSTANT – последовательность состоит из одинаковых значений\n",
        "ASCENDING – последовательность является строго возрастающей\n",
        "WEAKLY ASCENDING – последовательность является нестрого возрастающей\n",
        "DESCENDING – последовательность является строго убывающей\n",
        "WEAKLY DESCENDING – последовательность является нестрого убывающей\n",
        "RANDOM – последовательность не принадлежит ни к одному из вышеупомянутых типов\n",
        "\n",
        "CONSTANT,ASCENDING,WEAKLY ASCENDING,DESCENDING,WEAKLY DESCENDING,RANDOM"
      ],
      "metadata": {
        "id": "YiF4hPcTJLsf"
      },
      "execution_count": null,
      "outputs": []
    },
    {
      "cell_type": "code",
      "source": [
        "s = 'CONSTANT,ASCENDING,WEAKLY ASCENDING,DESCENDING,WEAKLY DESCENDING,RANDOM'.split(',')\n",
        "def f(a,b):\n",
        "  if (a==b):\n",
        "    return s[0]\n",
        "  elif a<b:\n",
        "    return s[1]\n",
        "  elif a>b:\n",
        "    return s[3]\n",
        "\n",
        "i = float(input())\n",
        "j = float(input())\n",
        "cur = f(i,j)\n",
        "while (j != float(-2e9)):\n",
        "  now = f(i,j)\n",
        "  #print(cur,now)\n",
        "  if (now == cur):\n",
        "    i = j\n",
        "    j = float(input())\n",
        "    continue\n",
        "  elif ((cur == 'ASCENDING' or cur == 'WEAKLY ASCENDING') and now == 'CONSTANT') or ((cur == 'CONSTANT' or cur == 'WEAKLY ASCENDING') and now == 'ASCENDING'):\n",
        "    cur = 'WEAKLY ASCENDING'\n",
        "    i = j\n",
        "    j = float(input())\n",
        "    continue\n",
        "  elif ((cur == 'DESCENDING' or cur == 'WEAKLY DESCENDING') and now == 'CONSTANT') or ((cur == 'CONSTANT'or cur == 'WEAKLY DESCENDING') and now == 'DESCENDING'):\n",
        "    cur = 'WEAKLY DESCENDING'\n",
        "    i = j\n",
        "    j = float(input())\n",
        "    continue\n",
        "  else:\n",
        "    cur = 'RANDOM'\n",
        "    break\n",
        "\n",
        "print(cur)"
      ],
      "metadata": {
        "colab": {
          "base_uri": "https://localhost:8080/"
        },
        "id": "d1zUJJXuIQWR",
        "outputId": "5a9e76ff-6a26-41b0-a182-bcf33ad2944f"
      },
      "execution_count": null,
      "outputs": [
        {
          "output_type": "stream",
          "name": "stdout",
          "text": [
            "1\n",
            "3\n",
            "2\n",
            "RANDOM\n"
          ]
        }
      ]
    },
    {
      "cell_type": "code",
      "source": [
        "-2e9 == -2_000_000_000"
      ],
      "metadata": {
        "colab": {
          "base_uri": "https://localhost:8080/"
        },
        "id": "XcJ26MM8OKiz",
        "outputId": "32bc459b-7ae4-472d-bd03-23609aa83e8b"
      },
      "execution_count": null,
      "outputs": [
        {
          "output_type": "execute_result",
          "data": {
            "text/plain": [
              "True"
            ]
          },
          "metadata": {},
          "execution_count": 12
        }
      ]
    },
    {
      "cell_type": "markdown",
      "source": [
        "##C"
      ],
      "metadata": {
        "id": "LeVe-KvDXYT7"
      }
    },
    {
      "cell_type": "markdown",
      "source": [
        "##D"
      ],
      "metadata": {
        "id": "sHruPtiHXZAW"
      }
    },
    {
      "cell_type": "code",
      "source": [
        "x = [float(i) for i in input().split()]\n",
        "def f(a,b,c):\n",
        "  return a<b>c\n",
        "out=0\n",
        "for i,j in enumerate(x[1:-1]):\n",
        "  out+=int(f(x[i],x[i+1],x[i+2]))\n",
        "print(out)"
      ],
      "metadata": {
        "colab": {
          "base_uri": "https://localhost:8080/"
        },
        "id": "E7rZg2k5XZ2D",
        "outputId": "ea517363-80b8-4b05-f90a-82170857da8d"
      },
      "execution_count": null,
      "outputs": [
        {
          "output_type": "stream",
          "name": "stdout",
          "text": [
            "1 2 1 2 1 \n",
            "2\n"
          ]
        }
      ]
    },
    {
      "cell_type": "markdown",
      "source": [
        "##E"
      ],
      "metadata": {
        "id": "Z5zY_BTUfJls"
      }
    },
    {
      "cell_type": "markdown",
      "source": [
        "##F"
      ],
      "metadata": {
        "id": "Zgr3BupWfKh2"
      }
    },
    {
      "cell_type": "code",
      "source": [
        "x = [float(i) for i in input().split()]\n",
        "s = len(x)%2\n",
        "mid = len(x)//2\n",
        "start = 0\n",
        "for i,j in enumerate(x[len(x)//2+s:]):\n",
        "  if (x[start:mid][::-1] == x[1 + mid:]):\n",
        "    break\n",
        "  print(x[start:mid][::-1])\n",
        "  print(x[s + mid:])\n",
        "  mid+=1\n",
        "  start+=1\n",
        "print(start)"
      ],
      "metadata": {
        "colab": {
          "base_uri": "https://localhost:8080/"
        },
        "id": "GD6qBiWvfMWj",
        "outputId": "1ea793d5-b6c9-40ee-d512-0e58c3e003d6"
      },
      "execution_count": null,
      "outputs": [
        {
          "output_type": "stream",
          "name": "stdout",
          "text": [
            "1 3 4 3\n",
            "[3.0, 1.0]\n",
            "[4.0, 3.0]\n",
            "[4.0, 3.0]\n",
            "[3.0]\n",
            "2\n"
          ]
        }
      ]
    },
    {
      "cell_type": "code",
      "source": [
        "N = input()\n",
        "x = [int(i) for i in input().split()]\n",
        "def f (mx):\n",
        "  return mx[:len(mx)//2][::-1] == mx[len(mx)//2 + len(mx)%2:]\n",
        "out = 0\n",
        "for i in range(0,len(x),1):\n",
        "  out = i\n",
        "  #print(i,x[i:])\n",
        "  if f(x[i:]):\n",
        "    break\n",
        "print(out)\n",
        "print(*x[:out][::-1])"
      ],
      "metadata": {
        "colab": {
          "base_uri": "https://localhost:8080/"
        },
        "id": "eQADrff41kHq",
        "outputId": "5002929c-707c-4d61-bc58-aca913073d8b"
      },
      "execution_count": null,
      "outputs": [
        {
          "output_type": "stream",
          "name": "stdout",
          "text": [
            "5\n",
            "1 2 3 4 5\n",
            "4\n",
            "4 3 2 1\n"
          ]
        }
      ]
    },
    {
      "cell_type": "markdown",
      "source": [
        "##G"
      ],
      "metadata": {
        "id": "ywG5Gu6k5vk3"
      }
    },
    {
      "cell_type": "code",
      "source": [
        "x = [int(i) for i in input().split()]\n",
        "x1=[]\n",
        "x2=[]\n",
        "for i in x:\n",
        "  if i>=0:\n",
        "    x1.append(i)\n",
        "  else:\n",
        "    x2.append(abs(i))\n",
        "m1=0\n",
        "m2=0\n",
        "m3=0\n",
        "m4=0\n",
        "if len(x1):\n",
        "  # m1 < m2\n",
        "  m1 = 0\n",
        "  m2 = 0\n",
        "  for i in x1:\n",
        "    if m2 >= i >= m1:\n",
        "      m1 = i\n",
        "    elif i > m2:\n",
        "      m1 = m2\n",
        "      m2 = i\n",
        "\n",
        "if len(x2):\n",
        "  # m3 < m4\n",
        "  m3 = 0\n",
        "  m4 = 0\n",
        "  for i in x2:\n",
        "    if m4 >= i >= m3:\n",
        "      m3 = i\n",
        "    elif i > m4:\n",
        "      m3 = m4\n",
        "      m4 = i\n",
        "\n",
        "if len(x1) < 2:\n",
        "  m1 = 0\n",
        "  m2 = 0\n",
        "if len(x2) < 2:\n",
        "  m3 = 0\n",
        "  m4 = 0\n",
        "\n",
        "if len(x) == 2:\n",
        "  print(min(x[0],x[1]),max(x[0],x[1]))\n",
        "elif (m1 * m2 >= m3 * m4):\n",
        "  print(m1,m2)\n",
        "else:\n",
        "  print(-1*m4,-1*m3)\n"
      ],
      "metadata": {
        "id": "eiMoetna5wQP",
        "colab": {
          "base_uri": "https://localhost:8080/",
          "height": 350
        },
        "outputId": "f18b9d0f-aa64-4c25-e908-ba81078f9c2b"
      },
      "execution_count": null,
      "outputs": [
        {
          "name": "stdout",
          "output_type": "stream",
          "text": [
            "-2.5\n"
          ]
        },
        {
          "output_type": "error",
          "ename": "ValueError",
          "evalue": "invalid literal for int() with base 10: '-2.5'",
          "traceback": [
            "\u001b[0;31m---------------------------------------------------------------------------\u001b[0m",
            "\u001b[0;31mValueError\u001b[0m                                Traceback (most recent call last)",
            "\u001b[0;32m<ipython-input-34-9e177f0b571d>\u001b[0m in \u001b[0;36m<cell line: 0>\u001b[0;34m()\u001b[0m\n\u001b[0;32m----> 1\u001b[0;31m \u001b[0mx\u001b[0m \u001b[0;34m=\u001b[0m \u001b[0;34m[\u001b[0m\u001b[0mint\u001b[0m\u001b[0;34m(\u001b[0m\u001b[0mi\u001b[0m\u001b[0;34m)\u001b[0m \u001b[0;32mfor\u001b[0m \u001b[0mi\u001b[0m \u001b[0;32min\u001b[0m \u001b[0minput\u001b[0m\u001b[0;34m(\u001b[0m\u001b[0;34m)\u001b[0m\u001b[0;34m.\u001b[0m\u001b[0msplit\u001b[0m\u001b[0;34m(\u001b[0m\u001b[0;34m)\u001b[0m\u001b[0;34m]\u001b[0m\u001b[0;34m\u001b[0m\u001b[0;34m\u001b[0m\u001b[0m\n\u001b[0m\u001b[1;32m      2\u001b[0m \u001b[0mx1\u001b[0m\u001b[0;34m=\u001b[0m\u001b[0;34m[\u001b[0m\u001b[0;34m]\u001b[0m\u001b[0;34m\u001b[0m\u001b[0;34m\u001b[0m\u001b[0m\n\u001b[1;32m      3\u001b[0m \u001b[0mx2\u001b[0m\u001b[0;34m=\u001b[0m\u001b[0;34m[\u001b[0m\u001b[0;34m]\u001b[0m\u001b[0;34m\u001b[0m\u001b[0;34m\u001b[0m\u001b[0m\n\u001b[1;32m      4\u001b[0m \u001b[0;32mfor\u001b[0m \u001b[0mi\u001b[0m \u001b[0;32min\u001b[0m \u001b[0mx\u001b[0m\u001b[0;34m:\u001b[0m\u001b[0;34m\u001b[0m\u001b[0;34m\u001b[0m\u001b[0m\n\u001b[1;32m      5\u001b[0m   \u001b[0;32mif\u001b[0m \u001b[0mi\u001b[0m\u001b[0;34m>=\u001b[0m\u001b[0;36m0\u001b[0m\u001b[0;34m:\u001b[0m\u001b[0;34m\u001b[0m\u001b[0;34m\u001b[0m\u001b[0m\n",
            "\u001b[0;32m<ipython-input-34-9e177f0b571d>\u001b[0m in \u001b[0;36m<listcomp>\u001b[0;34m(.0)\u001b[0m\n\u001b[0;32m----> 1\u001b[0;31m \u001b[0mx\u001b[0m \u001b[0;34m=\u001b[0m \u001b[0;34m[\u001b[0m\u001b[0mint\u001b[0m\u001b[0;34m(\u001b[0m\u001b[0mi\u001b[0m\u001b[0;34m)\u001b[0m \u001b[0;32mfor\u001b[0m \u001b[0mi\u001b[0m \u001b[0;32min\u001b[0m \u001b[0minput\u001b[0m\u001b[0;34m(\u001b[0m\u001b[0;34m)\u001b[0m\u001b[0;34m.\u001b[0m\u001b[0msplit\u001b[0m\u001b[0;34m(\u001b[0m\u001b[0;34m)\u001b[0m\u001b[0;34m]\u001b[0m\u001b[0;34m\u001b[0m\u001b[0;34m\u001b[0m\u001b[0m\n\u001b[0m\u001b[1;32m      2\u001b[0m \u001b[0mx1\u001b[0m\u001b[0;34m=\u001b[0m\u001b[0;34m[\u001b[0m\u001b[0;34m]\u001b[0m\u001b[0;34m\u001b[0m\u001b[0;34m\u001b[0m\u001b[0m\n\u001b[1;32m      3\u001b[0m \u001b[0mx2\u001b[0m\u001b[0;34m=\u001b[0m\u001b[0;34m[\u001b[0m\u001b[0;34m]\u001b[0m\u001b[0;34m\u001b[0m\u001b[0;34m\u001b[0m\u001b[0m\n\u001b[1;32m      4\u001b[0m \u001b[0;32mfor\u001b[0m \u001b[0mi\u001b[0m \u001b[0;32min\u001b[0m \u001b[0mx\u001b[0m\u001b[0;34m:\u001b[0m\u001b[0;34m\u001b[0m\u001b[0;34m\u001b[0m\u001b[0m\n\u001b[1;32m      5\u001b[0m   \u001b[0;32mif\u001b[0m \u001b[0mi\u001b[0m\u001b[0;34m>=\u001b[0m\u001b[0;36m0\u001b[0m\u001b[0;34m:\u001b[0m\u001b[0;34m\u001b[0m\u001b[0;34m\u001b[0m\u001b[0m\n",
            "\u001b[0;31mValueError\u001b[0m: invalid literal for int() with base 10: '-2.5'"
          ]
        }
      ]
    },
    {
      "cell_type": "markdown",
      "source": [
        "##H"
      ],
      "metadata": {
        "id": "OIFW8PkwoLiJ"
      }
    },
    {
      "cell_type": "code",
      "source": [
        "def f(x1):\n",
        "  m1 = 0\n",
        "  m2 = 0\n",
        "  m3 = 0\n",
        "  if len(x1)>=3:\n",
        "  # m1 < m2 < m3\n",
        "    for i in x1:\n",
        "      if m3 >= m2 >= i >= m1:\n",
        "        m1 = i\n",
        "      elif m3 >= i >= m2 :\n",
        "        m1 = m2\n",
        "        m2 = i\n",
        "      elif i >= m3:\n",
        "        m1 = m2\n",
        "        m2 = m3\n",
        "        m3 = i\n",
        "  else:\n",
        "    x1.append(0)\n",
        "    x1.append(0)\n",
        "    x1.append(0)\n",
        "    m1,m2,m3 = x1[:3]\n",
        "  return m1,m2,m3\n",
        "\n",
        "def f2(x1):\n",
        "  m1 = 0\n",
        "  m2 = 0\n",
        "  if len(x1):\n",
        "    # m1 < m2\n",
        "    m1 = 0\n",
        "    m2 = 0\n",
        "    for i in x1:\n",
        "      if m2 >= i >= m1:\n",
        "        m1 = i\n",
        "      elif i > m2:\n",
        "        m1 = m2\n",
        "        m2 = i\n",
        "  return m1,m2\n",
        "\n",
        "x = [int(i) for i in input().split()]\n",
        "x1=[]\n",
        "x2=[]\n",
        "for i in x:\n",
        "  if i>=0:\n",
        "    x1.append(i)\n",
        "  else:\n",
        "    x2.append(abs(i))\n",
        "\n",
        "m1,m2,m3 = f (x1)\n",
        "m4,m5    = f2(x2)\n",
        "#print(m1,m2,m3,m4,m5)\n",
        "g = lambda a,b,c: a*b*c\n",
        "if len(x) < 6:\n",
        "  x3 = sorted(x)\n",
        "  if (g(*x3[-1:-4:-1]) >= g(*[*x3[:2],max(x3)])):\n",
        "    print(*x3[-1:-4:-1])\n",
        "  else:\n",
        "    print(*x3[:2],max(x3))\n",
        "\n",
        "elif (m1*m2*m3 >= m4*m5*max(m1,m2,m3)):\n",
        "  print(m1,m2,m3)\n",
        "else:\n",
        "  print(-1*m4,-1*m5, max(m1,m2,m3))"
      ],
      "metadata": {
        "colab": {
          "base_uri": "https://localhost:8080/"
        },
        "id": "70dPVmIzoNeh",
        "outputId": "6631dedc-5ad6-4943-dded-dd06276acb07"
      },
      "execution_count": null,
      "outputs": [
        {
          "output_type": "stream",
          "name": "stdout",
          "text": [
            "-1 -2 3 4 5\n",
            "5 4 3\n"
          ]
        }
      ]
    },
    {
      "cell_type": "markdown",
      "source": [
        "##I"
      ],
      "metadata": {
        "id": "ENERpWQDoNzH"
      }
    },
    {
      "cell_type": "code",
      "source": [
        "n,m,b = [int(i) for i in input().split()]\n",
        "mx = []\n",
        "for i in range(b):\n",
        "  mx.append([int(i)-1 for i in input().split()])\n",
        "\n",
        "#for i,k in enumerate(mx):\n",
        "#  for j,l in enumerate(k):\n",
        "\n",
        "#x = [[0]*m]*n\n",
        "x=[]\n",
        "for i in range(n):\n",
        "  k = []\n",
        "  for j in range(m):\n",
        "    k.append(0)\n",
        "  x.append(k)\n",
        "#print(mx)\n",
        "\n",
        "for i in mx:\n",
        "  x[i[0]][i[1]] = '*'\n",
        "\n",
        "for i in range(n):\n",
        "  for j in range(m):\n",
        "    if x[i][j] == '*':\n",
        "\n",
        "      if j+1 <= m-1:\n",
        "        if x[i][j+1]!='*':\n",
        "          x[i][j+1]+=1\n",
        "        if i+1 <= n-1:\n",
        "          if x[i+1][j+1]!='*':\n",
        "            x[i+1][j+1]+=1\n",
        "        if i-1 >= 0:\n",
        "          if x[i-1][j+1]!='*':\n",
        "            x[i-1][j+1]+=1\n",
        "\n",
        "      if j-1 >= 0:\n",
        "        if x[i][j-1]!='*':\n",
        "          x[i][j-1]+=1\n",
        "        if i+1 <= n-1:\n",
        "          if x[i+1][j-1]!='*':\n",
        "            x[i+1][j-1]+=1\n",
        "        if i-1 >= 0:\n",
        "          if x[i-1][j-1]!='*':\n",
        "            x[i-1][j-1]+=1\n",
        "\n",
        "      #x[i][j]+=1\n",
        "      if i+1 <= n-1:\n",
        "        if x[i+1][j]!='*':\n",
        "          x[i+1][j]+=1\n",
        "      if i-1 >= 0:\n",
        "        if x[i-1][j]!='*':\n",
        "          x[i-1][j]+=1\n",
        "\n",
        "for i in range(n):\n",
        "  print(*x[i])"
      ],
      "metadata": {
        "id": "m8Rx5_bKoPeV",
        "colab": {
          "base_uri": "https://localhost:8080/"
        },
        "outputId": "217436d0-264f-4786-cfe1-660df5fdc9db"
      },
      "execution_count": null,
      "outputs": [
        {
          "output_type": "stream",
          "name": "stdout",
          "text": [
            "4 4 4\n",
            "1 3\n",
            "2 1\n",
            "4 2\n",
            "4 4\n",
            "1 2 * 1\n",
            "* 2 1 1\n",
            "2 2 2 1\n",
            "1 * 2 *\n"
          ]
        }
      ]
    },
    {
      "cell_type": "markdown",
      "source": [
        "##J"
      ],
      "metadata": {
        "id": "ouIVxXxboOYU"
      }
    },
    {
      "cell_type": "code",
      "source": [
        "up=[4000]\n",
        "down=[30]\n",
        "def f (a,b,state):\n",
        "  if state=='further':\n",
        "    c = b\n",
        "    b = a\n",
        "    a = c\n",
        "  if (a>b):\n",
        "    up.append((a+b)/2)\n",
        "  else:\n",
        "    down.append((a+b)/2)\n",
        "\n",
        "N = int(input())\n",
        "a = float(input())\n",
        "for i in range(N-1):\n",
        "  b,state = input().split()\n",
        "  b = float(b)\n",
        "  f(a,b,state)\n",
        "  a = b\n",
        "\n",
        "print(sorted(down)[-1],sorted(up)[0])\n"
      ],
      "metadata": {
        "id": "ovxbGQGBoPFX",
        "colab": {
          "base_uri": "https://localhost:8080/"
        },
        "outputId": "f7a63628-e0c5-440e-c465-a6b428d12e7c"
      },
      "execution_count": null,
      "outputs": [
        {
          "output_type": "stream",
          "name": "stdout",
          "text": [
            "4\n",
            "554\n",
            "880 further\n",
            "440 closer\n",
            "622 closer\n",
            "531.0 660.0\n"
          ]
        }
      ]
    },
    {
      "cell_type": "code",
      "source": [
        "'''123'''"
      ],
      "metadata": {
        "id": "iywJQngK9TXA",
        "outputId": "259342ca-12a2-43b9-80b0-6398f4385e87",
        "colab": {
          "base_uri": "https://localhost:8080/",
          "height": 36
        }
      },
      "execution_count": 1,
      "outputs": [
        {
          "output_type": "execute_result",
          "data": {
            "text/plain": [
              "'123'"
            ],
            "application/vnd.google.colaboratory.intrinsic+json": {
              "type": "string"
            }
          },
          "metadata": {},
          "execution_count": 1
        }
      ]
    }
  ]
}