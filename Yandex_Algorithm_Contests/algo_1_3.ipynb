{
  "nbformat": 4,
  "nbformat_minor": 0,
  "metadata": {
    "colab": {
      "provenance": []
    },
    "kernelspec": {
      "name": "python3",
      "display_name": "Python 3"
    },
    "language_info": {
      "name": "python"
    }
  },
  "cells": [
    {
      "cell_type": "markdown",
      "source": [
        "##A"
      ],
      "metadata": {
        "id": "56ORoRrwdKCn"
      }
    },
    {
      "cell_type": "code",
      "execution_count": null,
      "metadata": {
        "colab": {
          "base_uri": "https://localhost:8080/"
        },
        "id": "vd_hgY_KdEYM",
        "outputId": "c8fb4788-ff66-44ce-bf16-8664bc00e617"
      },
      "outputs": [
        {
          "output_type": "stream",
          "name": "stdout",
          "text": [
            "1 2 3 2 1\n",
            "3\n"
          ]
        }
      ],
      "source": [
        "print(len(set([float(i) for i in input().split()])))"
      ]
    },
    {
      "cell_type": "markdown",
      "source": [
        "##B"
      ],
      "metadata": {
        "id": "USXmSG_WeLTh"
      }
    },
    {
      "cell_type": "code",
      "source": [
        "print(*list(set([int(i) for i in input().split()]) & set([int(i) for i in input().split()])))"
      ],
      "metadata": {
        "colab": {
          "base_uri": "https://localhost:8080/"
        },
        "id": "DlJV5LxpeLuk",
        "outputId": "2feb121f-fd24-4754-cd4a-d266d3a36c95"
      },
      "execution_count": null,
      "outputs": [
        {
          "output_type": "stream",
          "name": "stdout",
          "text": [
            "1 3 2\n",
            "4 3 2\n",
            "2 3\n"
          ]
        }
      ]
    },
    {
      "cell_type": "code",
      "source": [
        "print(*sorted(list(set(map(int,input().split())) & set(map(int,input().split())))))"
      ],
      "metadata": {
        "colab": {
          "base_uri": "https://localhost:8080/"
        },
        "id": "gw4R3ctTKb3C",
        "outputId": "8fc905f4-e1a5-4cd2-d99f-2034099f1523"
      },
      "execution_count": null,
      "outputs": [
        {
          "output_type": "stream",
          "name": "stdout",
          "text": [
            "1 3 3 2\n",
            "4 3 2\n",
            "2 3\n"
          ]
        }
      ]
    },
    {
      "cell_type": "code",
      "source": [
        "def f():\n",
        "  s1 = set([int(i) for i in input().split()])\n",
        "  d = dict()\n",
        "\n"
      ],
      "metadata": {
        "id": "eZ2by4k_e1Lj"
      },
      "execution_count": null,
      "outputs": []
    },
    {
      "cell_type": "code",
      "source": [
        "print(*['1 '*10 for i in range(10)],sep='')"
      ],
      "metadata": {
        "colab": {
          "base_uri": "https://localhost:8080/"
        },
        "id": "PtGGmo4Wk6a-",
        "outputId": "0d10bf1c-09d5-4ed5-96bd-5e574a722b55"
      },
      "execution_count": null,
      "outputs": [
        {
          "output_type": "stream",
          "name": "stdout",
          "text": [
            "1 1 1 1 1 1 1 1 1 1 1 1 1 1 1 1 1 1 1 1 1 1 1 1 1 1 1 1 1 1 1 1 1 1 1 1 1 1 1 1 1 1 1 1 1 1 1 1 1 1 1 1 1 1 1 1 1 1 1 1 1 1 1 1 1 1 1 1 1 1 1 1 1 1 1 1 1 1 1 1 1 1 1 1 1 1 1 1 1 1 1 1 1 1 1 1 1 1 1 1 \n"
          ]
        }
      ]
    },
    {
      "cell_type": "code",
      "source": [
        "s1 = set([int(j) for j in input().split()])\n",
        "[1 if k in s1 else 0 for k in s1]"
      ],
      "metadata": {
        "colab": {
          "base_uri": "https://localhost:8080/"
        },
        "id": "8gX8ulu_lgli",
        "outputId": "c870b8a1-58d6-4dca-c51f-dfbc77afe7f2"
      },
      "execution_count": null,
      "outputs": [
        {
          "name": "stdout",
          "output_type": "stream",
          "text": [
            "1 3 2\n"
          ]
        },
        {
          "output_type": "execute_result",
          "data": {
            "text/plain": [
              "[1, 1, 1]"
            ]
          },
          "metadata": {},
          "execution_count": 19
        }
      ]
    },
    {
      "cell_type": "code",
      "source": [
        "s1 = set([int(j) for j in input().split()])\n",
        "s2 = set([int(j) for j in input().split()])\n",
        "print(*[(str(i) + ' ') * min(sum([1 if i == k else 0 for k in s1]),\\\n",
        "                       sum([1 if i in s2 else 0 for k in s2])) for i in s1&s2], sep='')"
      ],
      "metadata": {
        "colab": {
          "base_uri": "https://localhost:8080/"
        },
        "id": "7l-WOBJKlKqF",
        "outputId": "2bc58fbe-e91f-4a4c-d6ca-6b5b912929f5"
      },
      "execution_count": null,
      "outputs": [
        {
          "output_type": "stream",
          "name": "stdout",
          "text": [
            "1 3 2 \n",
            "4 3 2\n",
            "2 3 \n"
          ]
        }
      ]
    },
    {
      "cell_type": "code",
      "source": [
        "set([1,2,2,3]).intersection([2,2,3,4])"
      ],
      "metadata": {
        "colab": {
          "base_uri": "https://localhost:8080/"
        },
        "id": "D2ErBKNYnjmc",
        "outputId": "4422e95d-e6ee-4aee-fdf4-f73f047d74b3"
      },
      "execution_count": null,
      "outputs": [
        {
          "output_type": "execute_result",
          "data": {
            "text/plain": [
              "{2, 3}"
            ]
          },
          "metadata": {},
          "execution_count": 28
        }
      ]
    },
    {
      "cell_type": "code",
      "source": [
        "s1 = set([int(j) for j in input().split()])\n",
        "s2 = [int(j) for j in input().split()]\n",
        " [i in ]"
      ],
      "metadata": {
        "id": "30gLtZV8qh_F"
      },
      "execution_count": null,
      "outputs": []
    },
    {
      "cell_type": "code",
      "source": [
        "x1 = [int(i) for i in input().split()]\n",
        "x2 = [int(i) for i in input().split()]\n",
        "s3 = set(x1) & set(x2)\n",
        "\n",
        "def f(x):\n",
        "  d = dict()\n",
        "  for i in sorted(list(s3)):\n",
        "    d.update({i:0})\n",
        "\n",
        "  for i in x:\n",
        "    if i in s3:\n",
        "      try:\n",
        "        d[i]+=1\n",
        "      except:\n",
        "        d.update({i:1})\n",
        "  return d\n",
        "for i,j in zip(f(x1).items(),f(x2).items()):\n",
        "  print(min(j[1],i[1])*f'{j[0]} ',sep = '',end='')"
      ],
      "metadata": {
        "colab": {
          "base_uri": "https://localhost:8080/"
        },
        "id": "e12AQBs2svb4",
        "outputId": "4f50e8d8-bf7e-4617-dbdb-87a6d24d34f9"
      },
      "execution_count": null,
      "outputs": [
        {
          "output_type": "stream",
          "name": "stdout",
          "text": [
            "1 3 2\n",
            "4 3 2\n",
            "2 3 "
          ]
        }
      ]
    },
    {
      "cell_type": "markdown",
      "source": [
        "##C"
      ],
      "metadata": {
        "id": "sZzSpeJJvy5L"
      }
    },
    {
      "cell_type": "code",
      "source": [
        "N,M = [int(i) for i in input().split()]\n",
        "x1=[]\n",
        "x2=[]\n",
        "for i in range(N):\n",
        "  x1.append(int(input()))\n",
        "for i in range(M):\n",
        "  x2.append(int(input()))\n",
        "s1,s2 = set(x1),set(x2)\n",
        "s3 = s1&s2\n",
        "print(len(s3))\n",
        "print(*sorted(list(s3)),sep=' ')\n",
        "print(len(s1-s3))\n",
        "print(*sorted(list(s1-s3)))\n",
        "print(len(s2-s3))\n",
        "print(*sorted(list(s2-s3)))\n"
      ],
      "metadata": {
        "colab": {
          "base_uri": "https://localhost:8080/"
        },
        "id": "WYgta6dWvziF",
        "outputId": "35e1ad31-3572-4077-b322-857386c5e7f1"
      },
      "execution_count": null,
      "outputs": [
        {
          "output_type": "stream",
          "name": "stdout",
          "text": [
            "0 0\n",
            "0\n",
            "\n",
            "0\n",
            "\n",
            "0\n",
            "\n"
          ]
        }
      ]
    },
    {
      "cell_type": "markdown",
      "source": [
        "##D"
      ],
      "metadata": {
        "id": "kYlngz3Ks9nJ"
      }
    },
    {
      "cell_type": "code",
      "source": [
        "print(len(set(input().split())))"
      ],
      "metadata": {
        "colab": {
          "base_uri": "https://localhost:8080/"
        },
        "id": "u_YYlTWys_Ho",
        "outputId": "92538f15-f451-461a-fe33-285d1a90c73a"
      },
      "execution_count": null,
      "outputs": [
        {
          "output_type": "stream",
          "name": "stdout",
          "text": [
            "abc  cde        abc\n",
            "2\n"
          ]
        }
      ]
    },
    {
      "cell_type": "code",
      "source": [
        "'a b    c'.split()"
      ],
      "metadata": {
        "colab": {
          "base_uri": "https://localhost:8080/"
        },
        "id": "7T2GyiK7tYy_",
        "outputId": "98405313-3a7b-4c44-a863-0194490a6291"
      },
      "execution_count": null,
      "outputs": [
        {
          "output_type": "execute_result",
          "data": {
            "text/plain": [
              "['a', 'b', 'c']"
            ]
          },
          "metadata": {},
          "execution_count": 45
        }
      ]
    },
    {
      "cell_type": "code",
      "source": [
        "import sys\n",
        "x = ''\n",
        "for line in sys.stdin:\n",
        "    x+=' ' + line.strip() + ' '\n",
        "print(len(set(x.split())))"
      ],
      "metadata": {
        "colab": {
          "base_uri": "https://localhost:8080/"
        },
        "id": "M5oFTQzEunFm",
        "outputId": "191a79e7-3ebc-455e-e77e-87ea32eba77c"
      },
      "execution_count": null,
      "outputs": [
        {
          "output_type": "stream",
          "name": "stdout",
          "text": [
            "0\n"
          ]
        }
      ]
    },
    {
      "cell_type": "markdown",
      "source": [
        "##E"
      ],
      "metadata": {
        "id": "nYGADui8sFqk"
      }
    },
    {
      "cell_type": "code",
      "source": [
        "s1 = set([int(j) for j in input().split()])\n",
        "s2 = set([int(j) for j in [*input()]])\n",
        "print(len(s2 - s1))"
      ],
      "metadata": {
        "colab": {
          "base_uri": "https://localhost:8080/"
        },
        "id": "dYc3_ZVHsGiv",
        "outputId": "e2e7413c-f32d-4140-da5d-c3de8a535456"
      },
      "execution_count": null,
      "outputs": [
        {
          "output_type": "stream",
          "name": "stdout",
          "text": [
            "1 2 3\n",
            "1001\n",
            "1\n"
          ]
        }
      ]
    },
    {
      "cell_type": "code",
      "source": [
        "[*\"123\"]"
      ],
      "metadata": {
        "colab": {
          "base_uri": "https://localhost:8080/"
        },
        "id": "k_ed_7ufsTvH",
        "outputId": "ba588f69-4fa6-49c3-a6df-56d1ad950156"
      },
      "execution_count": null,
      "outputs": [
        {
          "output_type": "execute_result",
          "data": {
            "text/plain": [
              "['1', '2', '3']"
            ]
          },
          "metadata": {},
          "execution_count": 35
        }
      ]
    },
    {
      "cell_type": "markdown",
      "source": [
        "##F"
      ],
      "metadata": {
        "id": "i5pdHyorxVNa"
      }
    },
    {
      "cell_type": "code",
      "source": [
        "x1 = [*input()]\n",
        "x2 = [*input()]\n",
        "\n",
        "x1 = [x1[i] + x1[i+1] for i in range(len(x1)-1)]\n",
        "x2 = [x2[i] + x2[i+1] for i in range(len(x2)-1)]\n",
        "\n",
        "s1,s2 = set(x1),set(x2)\n",
        "s3 = s1&s2\n",
        "\n",
        "def f(x):\n",
        "  d = dict()\n",
        "  for i in sorted(list(s3)):\n",
        "    d.update({i:0})\n",
        "\n",
        "  for i in x:\n",
        "    if i in s3:\n",
        "      try:\n",
        "        d[i]+=1\n",
        "      except:\n",
        "        d.update({i:1})\n",
        "  return d\n",
        "'''\n",
        "out=0\n",
        "for i,j in zip(f(x1).items(),f(x2).items()):\n",
        "  out+=max(i[1],j[1])\n",
        "print(out)\n",
        "'''\n",
        "print(sum(f(x1).values()))"
      ],
      "metadata": {
        "colab": {
          "base_uri": "https://localhost:8080/"
        },
        "id": "p07xw6N6xV3z",
        "outputId": "35638459-c759-4e03-9b14-24b29c05c063"
      },
      "execution_count": null,
      "outputs": [
        {
          "output_type": "stream",
          "name": "stdout",
          "text": [
            "ABBACAB\n",
            "BCABB\n",
            "4\n"
          ]
        }
      ]
    },
    {
      "cell_type": "markdown",
      "source": [
        "##G"
      ],
      "metadata": {
        "id": "scjmJY_HzVtH"
      }
    },
    {
      "cell_type": "code",
      "source": [
        "sum([False,True,True])"
      ],
      "metadata": {
        "colab": {
          "base_uri": "https://localhost:8080/"
        },
        "id": "5XsNa1xRzWPf",
        "outputId": "c03c0e21-fa5a-45d1-9329-fe517f1c9319"
      },
      "execution_count": null,
      "outputs": [
        {
          "output_type": "execute_result",
          "data": {
            "text/plain": [
              "2"
            ]
          },
          "metadata": {},
          "execution_count": 57
        }
      ]
    },
    {
      "cell_type": "code",
      "source": [
        "N = int(input())\n",
        "x = [False] * N\n",
        "for i in range(N):\n",
        "  a,b = [int(j) for j in input().split()]\n",
        "  if (a+b == N-1) and a>=0 and b>=0:\n",
        "    x[b] = True\n",
        "print(sum(x))"
      ],
      "metadata": {
        "colab": {
          "base_uri": "https://localhost:8080/"
        },
        "id": "CREQ7J5Gzapt",
        "outputId": "ef66bb6f-eac6-4b8f-f40c-eeaa2760f1c0"
      },
      "execution_count": null,
      "outputs": [
        {
          "output_type": "stream",
          "name": "stdout",
          "text": [
            "10\n",
            "9 1\n",
            "8 1\n",
            "7 2\n",
            "6 2\n",
            "5 3\n",
            "4 4\n",
            "3 6\n",
            "2 7\n",
            "1 9\n",
            "0 8\n",
            "4\n"
          ]
        }
      ]
    },
    {
      "cell_type": "markdown",
      "source": [
        "##H"
      ],
      "metadata": {
        "id": "t-sJT_Icx4vm"
      }
    },
    {
      "cell_type": "code",
      "source": [
        "N = int(input())\n",
        "s = []\n",
        "for i in range(N):\n",
        "  s.append(int(input().split()[0]))\n",
        "print(len(set(s)))"
      ],
      "metadata": {
        "colab": {
          "base_uri": "https://localhost:8080/"
        },
        "id": "gMNbqOACx5Uy",
        "outputId": "63dc47bb-ccd8-41a7-8551-61d31cfbad50"
      },
      "execution_count": null,
      "outputs": [
        {
          "output_type": "stream",
          "name": "stdout",
          "text": [
            "6\n",
            "1 1 \n",
            "2 2\n",
            "3 3 \n",
            "2 1\n",
            "3 2\n",
            "3 4\n",
            "3\n"
          ]
        }
      ]
    },
    {
      "cell_type": "markdown",
      "source": [
        "##I"
      ],
      "metadata": {
        "id": "GImjIQdZvqQ3"
      }
    },
    {
      "cell_type": "code",
      "source": [
        "N = int(input())\n",
        "x = []\n",
        "for i in range(N):\n",
        "  M = int(input())\n",
        "  s = []\n",
        "  for j in M:\n",
        "    s.append(input())\n",
        "  x.append()"
      ],
      "metadata": {
        "id": "iJInhfRVvrBZ"
      },
      "execution_count": null,
      "outputs": []
    },
    {
      "cell_type": "code",
      "source": [
        "N = int(input())\n",
        "\n",
        "x_union = set()\n",
        "\n",
        "\n",
        "s = []\n",
        "M = int(input())\n",
        "for i in range(M):\n",
        "  s.append(input())\n",
        "x_inter = set(s)\n",
        "x_union = set(s)\n",
        "\n",
        "for i in range(N-1):\n",
        "  M = int(input())\n",
        "  s = []\n",
        "  for J in range(M):\n",
        "    s.append(input())\n",
        "  s = set(s)\n",
        "  x_union = x_union | s\n",
        "  x_inter = x_inter & s\n",
        "\n",
        "print(len(x_inter))\n",
        "print(*list(x_inter),sep='\\n')\n",
        "print(len(x_union))\n",
        "print(*list(x_union),sep='\\n')\n"
      ],
      "metadata": {
        "colab": {
          "base_uri": "https://localhost:8080/"
        },
        "id": "i8kDDZXGv-B1",
        "outputId": "8d98715a-deb5-47b3-e2a9-026af43f1331"
      },
      "execution_count": null,
      "outputs": [
        {
          "output_type": "stream",
          "name": "stdout",
          "text": [
            "3\n",
            "3\n",
            "Russian\n",
            "English\n",
            "Japanese\n",
            "2\n",
            "Russian\n",
            "English\n",
            "1\n",
            "English\n",
            "1\n",
            "English\n",
            "2\n",
            "Russian\n",
            "English\n"
          ]
        }
      ]
    }
  ]
}